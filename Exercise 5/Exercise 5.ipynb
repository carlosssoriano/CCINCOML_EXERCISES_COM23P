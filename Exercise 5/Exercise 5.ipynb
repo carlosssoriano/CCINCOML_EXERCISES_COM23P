{
  "nbformat": 4,
  "nbformat_minor": 0,
  "metadata": {
    "colab": {
      "provenance": []
    },
    "kernelspec": {
      "name": "python3",
      "display_name": "Python 3"
    },
    "language_info": {
      "name": "python"
    }
  },
  "cells": [
    {
      "cell_type": "markdown",
      "source": [
        "# Exercise 5"
      ],
      "metadata": {
        "id": "2YKNSy_M9wSB"
      }
    },
    {
      "cell_type": "markdown",
      "source": [
        "1. Compute the average\n",
        "\n",
        "My electricity bills for the last three months have been 23, 32 and 64.\n",
        "\n",
        "- What is the average monthly electricity bill over the three month period?\n",
        "\n",
        "- Write an expression to calculate the mean, and use print() to view the result."
      ],
      "metadata": {
        "id": "AW0H1ylt3H9g"
      }
    },
    {
      "cell_type": "code",
      "execution_count": null,
      "metadata": {
        "id": "3a9CllzZ28_6",
        "outputId": "96e51d2d-8aa9-4d1a-acc8-06cbac38abfa",
        "colab": {
          "base_uri": "https://localhost:8080/"
        }
      },
      "outputs": [
        {
          "output_type": "stream",
          "name": "stdout",
          "text": [
            "The average monthly electricity bill over the three month period is: 39.666666666666664\n"
          ]
        }
      ],
      "source": [
        "bills = [23,32,64]\n",
        "average_bill = sum(bills) / len(bills)\n",
        "print(\"The average monthly electricity bill over the three month period is:\", average_bill)"
      ]
    },
    {
      "cell_type": "markdown",
      "source": [
        "2. Create a condition\n",
        "\n",
        "The code below calculates the population densities of Rio de Janeiro and San Francisco.\n",
        "\n",
        "Write a code to compare these densities. Is the population of San Francisco more dense than that of Rio de Janeiro? Print True if it is and False if not."
      ],
      "metadata": {
        "id": "lDgi4WMA3UDM"
      }
    },
    {
      "cell_type": "code",
      "source": [
        "sf_population, sf_area = 864816, 231.89\n",
        "rio_population, rio_area = 6453682, 486.5\n",
        "\n",
        "san_francisco_pop_density = sf_population/sf_area\n",
        "rio_de_janeiro_pop_density = rio_population/rio_area\n",
        "\n",
        "is_sf_more_dense = san_francisco_pop_density > rio_de_janeiro_pop_density\n",
        "print(is_sf_more_dense)\n",
        "\n",
        "# Write code that prints True if San Francisco is denser than Rio, and False otherwise"
      ],
      "metadata": {
        "id": "-K4Umghk34X3",
        "outputId": "d75e044a-77dc-498e-9ade-e91b95036112",
        "colab": {
          "base_uri": "https://localhost:8080/"
        }
      },
      "execution_count": null,
      "outputs": [
        {
          "output_type": "stream",
          "name": "stdout",
          "text": [
            "False\n"
          ]
        }
      ]
    },
    {
      "cell_type": "markdown",
      "source": [
        "3. Fix the error\n",
        "\n",
        "The line of code below will cause a SyntaxError, thanks to the misuse of quotation marks.\n",
        "\n",
        "- First run it with Test Run to view the error message.\n",
        "- Then resolve the problem so that the quote (from Henry Ford(opens in a new tab)) is correctly assigned to the variable ford_quote."
      ],
      "metadata": {
        "id": "2sgJy-_C4N8b"
      }
    },
    {
      "cell_type": "code",
      "source": [
        "# TODO: Fix this string!\n",
        "ford_quote = \"Whether you think you can, or you think you can't-you're right.\""
      ],
      "metadata": {
        "id": "xARijZmm4bp2"
      },
      "execution_count": null,
      "outputs": []
    },
    {
      "cell_type": "markdown",
      "source": [
        "4. Write a server log message\n",
        "\n",
        "You’ll be provided with example data for a user, the time of their visit and the site they accessed. You should use the variables provided and the techniques you’ve learned to print a log message like this one (with the username, url, and timestamp replaced with values from the appropriate variables):"
      ],
      "metadata": {
        "id": "wZBoOGlh4zf9"
      }
    },
    {
      "cell_type": "code",
      "source": [
        "username = \"Kinari\"\n",
        "timestamp = \"04:50\"\n",
        "url = \"http://petshop.com/pets/mammals/cats\"\n",
        "\n",
        "log_message = f\"{username} accessed the site {url} at {timestamp}\"\n",
        "print(log_message)\n",
        "\n",
        "# TODO: print a log message using the variables above.\n",
        "# The message should have the same format as this one:\n",
        "# \"Yogesh accessed the site http://petshop.com/pets/reptiles/pythons at 16:20.\""
      ],
      "metadata": {
        "id": "0xoFuFFw48AX",
        "outputId": "1f21f1a7-108e-446d-9fb5-23a0186174d3",
        "colab": {
          "base_uri": "https://localhost:8080/"
        }
      },
      "execution_count": null,
      "outputs": [
        {
          "output_type": "stream",
          "name": "stdout",
          "text": [
            "Kinari accessed the site http://petshop.com/pets/mammals/cats at 04:50\n"
          ]
        }
      ]
    },
    {
      "cell_type": "markdown",
      "source": [
        "5. Use string concatenation and the `len()` function to find the length of a certain movie star's actual full name. Store that length in the name_length variable. Don't forget that there are spaces in between the different parts of a name!"
      ],
      "metadata": {
        "id": "I0khhJta5eal"
      }
    },
    {
      "cell_type": "code",
      "source": [
        "given_name = \"William\"\n",
        "middle_names = \"Bradley\"\n",
        "family_name = \"Pitt\"\n",
        "\n",
        "name_length = len(\"William_Bradley_Pitt\")\n",
        "print(\"William Bradley Pitt\", name_length)"
      ],
      "metadata": {
        "id": "zhNS8sDo5faD",
        "outputId": "b74c7a79-428f-480b-982f-2c5d79707e33",
        "colab": {
          "base_uri": "https://localhost:8080/"
        }
      },
      "execution_count": null,
      "outputs": [
        {
          "output_type": "stream",
          "name": "stdout",
          "text": [
            "William Bradley Pitt 20\n"
          ]
        }
      ]
    },
    {
      "cell_type": "markdown",
      "source": [
        "6. Type Conversion\n",
        "\n",
        "- You will need to change the types of the input and output data in order to get the result you want.\n",
        "\n",
        "- Calculate and print the total sales for the week from the data provided.\n",
        "\n",
        "- Print out a string of the form \"This week's total sales: xxx\", where xxx will be the actual total of all the numbers. You’ll need to change the type of the input data in order to calculate that total."
      ],
      "metadata": {
        "id": "8Tkd7nsi5v_5"
      }
    },
    {
      "cell_type": "code",
      "source": [
        "mon_sales = \"121\"\n",
        "tues_sales = \"105\"\n",
        "wed_sales = \"110\"\n",
        "thurs_sales = \"98\"\n",
        "fri_sales = \"95\"\n",
        "\n",
        "sales_data = [\"121\", \"105\", \"110\", \"98\", \"95\"]\n",
        "total_sales = sum(int(sale) for sale in sales_data)\n",
        "print(\"This week's total sales:\", total_sales)\n",
        "\n",
        "#TODO: Print a string with this format: This week's total sales: xxx\n",
        "# You will probably need to write some lines of code before the print statement."
      ],
      "metadata": {
        "id": "gNE_Md8954Dx",
        "outputId": "70093f7c-2d5d-4bdf-8341-9a71fc7b5632",
        "colab": {
          "base_uri": "https://localhost:8080/"
        }
      },
      "execution_count": null,
      "outputs": [
        {
          "output_type": "stream",
          "name": "stdout",
          "text": [
            "This week's total sales: 529\n"
          ]
        }
      ]
    },
    {
      "cell_type": "markdown",
      "source": [
        "7. String methods\n",
        "\n",
        "Below, we have a string variable that contains the first verse of the poem, If by Rudyard Kipling(opens in a new tab)"
      ],
      "metadata": {
        "id": "6WXIVMFX6eNA"
      }
    },
    {
      "cell_type": "code",
      "source": [
        "verse = \"If you can keep your head when all about you\\n  Are losing theirs and blaming it on you,\\nIf you can trust yourself when all men doubt you,\\n  But make allowance for their doubting too;\\nIf you can wait and not be tired by waiting,\\n  Or being lied about, don’t deal in lies,\\nOr being hated, don’t give way to hating,\\n  And yet don’t look too good, nor talk too wise:\"\n",
        "print(verse)"
      ],
      "metadata": {
        "id": "4Kp9Vbxr6epE",
        "outputId": "525b55cc-387b-4f15-ed61-20de5e9b66b3",
        "colab": {
          "base_uri": "https://localhost:8080/"
        }
      },
      "execution_count": null,
      "outputs": [
        {
          "output_type": "stream",
          "name": "stdout",
          "text": [
            "If you can keep your head when all about you\n",
            "  Are losing theirs and blaming it on you,\n",
            "If you can trust yourself when all men doubt you,\n",
            "  But make allowance for their doubting too;\n",
            "If you can wait and not be tired by waiting,\n",
            "  Or being lied about, don’t deal in lies,\n",
            "Or being hated, don’t give way to hating,\n",
            "  And yet don’t look too good, nor talk too wise:\n"
          ]
        }
      ]
    },
    {
      "cell_type": "markdown",
      "source": [
        "What is the length of the string variable verse?"
      ],
      "metadata": {
        "id": "HX5plsix7Ntd"
      }
    },
    {
      "cell_type": "code",
      "source": [
        "verse = '''If you can keep your head when all about you\n",
        "  Are losing theirs and blaming it on you,\n",
        "If you can trust yourself when all men doubt you,\n",
        "  But make allowance for their doubting too;\n",
        "If you can wait and not be tired by waiting,\n",
        "  Or being lied about, don’t deal in lies,\n",
        "Or being hated, don’t give way to hating,\n",
        "  And yet don’t look too good, nor talk too wise'''\n",
        "\n",
        "verse_length = len(verse)\n",
        "print(\"Length of string variable verse\", verse_length)"
      ],
      "metadata": {
        "id": "uMA2Y5rG7OFR",
        "outputId": "0885a4e5-8ed3-4532-baba-515382aeebae",
        "colab": {
          "base_uri": "https://localhost:8080/"
        }
      },
      "execution_count": null,
      "outputs": [
        {
          "output_type": "stream",
          "name": "stdout",
          "text": [
            "Length of string variable verse 361\n"
          ]
        }
      ]
    },
    {
      "cell_type": "markdown",
      "source": [],
      "metadata": {
        "id": "k0kghlyCZuTj"
      }
    },
    {
      "cell_type": "markdown",
      "source": [
        "### What is the count of occurrences of the word 'you' in the verse?"
      ],
      "metadata": {
        "id": "XvEqzG-r7GMG"
      }
    },
    {
      "cell_type": "code",
      "source": [
        "verse = '''If you can keep your head when all about you\n",
        "  Are losing theirs and blaming it on you,\n",
        "If you can trust yourself when all men doubt you,\n",
        "  But make allowance for their doubting too;\n",
        "If you can wait and not be tired by waiting,\n",
        "  Or being lied about, don’t deal in lies,\n",
        "Or being hated, don’t give way to hating,\n",
        "  And yet don’t look too good, nor talk too wise'''\n",
        "\n",
        "you_count = verse.count('you')\n",
        "print(\"Count of occurences of the word 'you' in the verse:\", you_count)"
      ],
      "metadata": {
        "id": "SWeEUevY7Fui",
        "outputId": "c33173ea-5829-4d7e-cb71-de08ba302e1d",
        "colab": {
          "base_uri": "https://localhost:8080/"
        }
      },
      "execution_count": null,
      "outputs": [
        {
          "output_type": "stream",
          "name": "stdout",
          "text": [
            "Count of occurences of the word 'you' in the verse: 8\n"
          ]
        }
      ]
    },
    {
      "cell_type": "markdown",
      "source": [
        "What is the index of the first occurrence of the word 'head' in verse?"
      ],
      "metadata": {
        "id": "8Lvcl-0L7SmJ"
      }
    },
    {
      "cell_type": "code",
      "source": [
        "verse = '''If you can keep your head when all about you\n",
        "  Are losing theirs and blaming it on you,\n",
        "If you can trust yourself when all men doubt you,\n",
        "  But make allowance for their doubting too;\n",
        "If you can wait and not be tired by waiting,\n",
        "  Or being lied about, don’t deal in lies,\n",
        "Or being hated, don’t give way to hating,\n",
        "  And yet don’t look too good, nor talk too wise'''\n",
        "\n",
        "head_index = verse.find('head')\n",
        "print(\"The index of the first occurrence of the word 'head' in the verse is:\", head_index)\n",
        "\n",
        "\n"
      ],
      "metadata": {
        "id": "foPeKDud7SzQ",
        "outputId": "d3016711-3f35-415f-b6de-ab1c5a737aca",
        "colab": {
          "base_uri": "https://localhost:8080/"
        }
      },
      "execution_count": null,
      "outputs": [
        {
          "output_type": "stream",
          "name": "stdout",
          "text": [
            "The index of the first occurrence of the word 'head' in the verse is: 21\n"
          ]
        }
      ]
    },
    {
      "cell_type": "markdown",
      "source": [
        "8. Which Prize?\n",
        "\n",
        "- Write an if statement that lets a competitor know which of these prizes they won based on the number of points they scored, which is stored in the integer variable points.\n",
        "\n",
        "|   Points| Prize  |   \n",
        "|---|---|\n",
        "|  1 - 50  |  Candy |\n",
        "|  51 - 150 |  Chocolate |  \n",
        "|  151 - 200 | Sports Car  |   \n",
        "|  201 - 250 | Mansion  |  \n",
        "\n",
        "\n",
        " - In your if statement, assign the result variable to a string holding the appropriate message based on the value of points. If they've won a prize, the message should state \"Congratulations! You won a [prize name]!\" with the prize name. If there's no prize, the message should state \"Oh dear, no prize this time.\""
      ],
      "metadata": {
        "id": "b1uSYvN374nv"
      }
    },
    {
      "cell_type": "code",
      "source": [
        "points = 225\n",
        "result = \"\"\n",
        "\n",
        "if points >= 201 and points <=250:\n",
        "    prize = \"Mansion\"\n",
        "    result = f\"Congratulations! You won a {prize}!\"\n",
        "elif points >= 151 and points <=200:\n",
        "    prize = \"Sports Car\"\n",
        "    result = f\"Congratulations! You won a {prize}!\"\n",
        "elif points  >= 51 and points <=150:\n",
        "      prize = \"Chocolate\"\n",
        "      result = f\"Congratulations! You won a {prize}!\"\n",
        "elif points >= 1 and points <=50:\n",
        "  prize = \"Candy\"\n",
        "  result = f\"Congratulations! You won a {prize}!\"\n",
        "else:\n",
        "  result = \"Oh dear!, No prize this time\"\n",
        "\n",
        "print(result)"
      ],
      "metadata": {
        "id": "rTDH4N1x7436",
        "outputId": "8c7d0cbb-5e3e-479d-a8a5-0f150b3d4b1b",
        "colab": {
          "base_uri": "https://localhost:8080/"
        }
      },
      "execution_count": null,
      "outputs": [
        {
          "output_type": "stream",
          "name": "stdout",
          "text": [
            "Congratulations! You won a Mansion!\n"
          ]
        }
      ]
    },
    {
      "cell_type": "markdown",
      "source": [
        "9. Guess My Number\n",
        "\n",
        "- You decide you want to play a game where you are hiding a number from someone. Store this number in a variable called 'answer'. Another user provides a number called 'guess'. By comparing guess to answer, you inform the user if their guess is too high or too low.\n",
        "\n",
        "- Fill in the conditionals below to inform the user about how their guess compares to the answer."
      ],
      "metadata": {
        "id": "XdxTkPje9EUY"
      }
    },
    {
      "cell_type": "code",
      "source": [
        "answer:73\n",
        "guess = int(input(\"Enter your guess: \"))\n",
        "\n",
        "if guess == answer:\n",
        "    print(\"Congratulations! You guessed it.\")\n",
        "elif guess < answer:\n",
        "    print(\"Your guess is too low.\")\n",
        "else:\n",
        "    print(\"Your guess is too high.\")"
      ],
      "metadata": {
        "id": "tcsIibtJ9Eic",
        "outputId": "38add37e-5e5c-40d1-ec60-f3afe8665b24",
        "colab": {
          "base_uri": "https://localhost:8080/"
        }
      },
      "execution_count": null,
      "outputs": [
        {
          "output_type": "stream",
          "name": "stdout",
          "text": [
            "Enter your guess: 26\n",
            "Your guess is too low.\n"
          ]
        }
      ]
    }
  ]
}